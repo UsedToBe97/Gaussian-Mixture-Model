{
 "cells": [
  {
   "cell_type": "code",
   "execution_count": 1,
   "metadata": {
    "collapsed": true
   },
   "outputs": [],
   "source": [
    "from numpy import *\n",
    "import random, math\n",
    "\n",
    "def loadDataSetY(fileName):\n",
    "    X = []\n",
    "    fr = open(fileName)\n",
    "    for line in fr.readlines():\n",
    "        curLine = line.strip().split(' ')\n",
    "        fltLine = map(float, curLine)\n",
    "        #print(curLine[0] + '/' + curLine[1] + '/' + curLine[3])\n",
    "        X.append(float(curLine[2]))\n",
    "        #print(lst[0])\n",
    "        #X.append(lst)\n",
    "        #print(len(curLine))\n",
    "    return X\n",
    "def loadDataSet(fileName, id):\n",
    "    X = []\n",
    "    cnt = 0\n",
    "    fr = open(fileName)\n",
    "    for line in fr.readlines():\n",
    "        curLine = line.strip().split(' ')\n",
    "        fltLine = map(float, curLine)\n",
    "        cnt = cnt + 1\n",
    "        #print(curLine[0] + '/' + curLine[1] + '/' + curLine[2])\n",
    "        #print(cnt)\n",
    "        lst = []\n",
    "        lst.append(float(curLine[0]))\n",
    "        lst.append(float(curLine[1]))\n",
    "        if (id == 0):\n",
    "            X.append(lst)\n",
    "        elif (float(curLine[2]) == id):\n",
    "            X.append(lst)\n",
    "            #print(lst[0])\n",
    "        #print(lst[0])\n",
    "        #X.append(lst)\n",
    "        #print(len(curLine))\n",
    "    return X"
   ]
  },
  {
   "cell_type": "code",
   "execution_count": 2,
   "metadata": {
    "collapsed": true
   },
   "outputs": [],
   "source": [
    "def calc_prob(pMiu,pSigma,X,K,N,D):\n",
    "    Px = mat(zeros([N, K]))\n",
    "    for k in range(K):\n",
    "        Xshift = X-tile(pMiu[k, :],(N, 1)) #N * D\n",
    "        inv_pSigma = linalg.pinv(mat(pSigma[:, :, k])) # D * D\n",
    "\n",
    "        tmp = sum(array((Xshift*inv_pSigma)) * array(Xshift), 1) # N * 1\n",
    "        #print(tmp)\n",
    "        #tmp = mat(tmp).T\n",
    "\n",
    "        Sigema = linalg.det(mat(inv_pSigma))\n",
    "\n",
    "        if Sigema < 0:\n",
    "            Sigema=0\n",
    "\n",
    "        coef = power((2*(math.pi)),(-D/2)) * sqrt(Sigema)              \n",
    "        tmp = tmp.reshape([N, 1])\n",
    "        \n",
    "        Px[:, k] = coef * exp(-0.5*tmp)\n",
    "        #print(Px[:, k])\n",
    "    return Px"
   ]
  },
  {
   "cell_type": "code",
   "execution_count": 3,
   "metadata": {
    "collapsed": true
   },
   "outputs": [],
   "source": [
    "def init_params(X,centroids,K,N,D):  \n",
    "    pMiu = centroids #k*D\n",
    "    pPi = zeros([1, K])\n",
    "    pSigma = zeros([D, D, K]) \n",
    "    \n",
    "    distmat = tile(sum(power(X,2), 1),(1, K)) + \\\n",
    "        tile(transpose(sum(power(pMiu,2), 1)),(N, 1)) -  \\\n",
    "        2*X*transpose(pMiu)\n",
    "    labels = distmat.argmin(1)\n",
    "\n",
    "    for k in range(K):\n",
    "        boolList = (labels==k).tolist()\n",
    "        indexList = [boolList.index(i) for i in boolList if i==[True]]\n",
    "        Xk = X[indexList, :]\n",
    "        pPi[0][k] = float(size(Xk, 0))/N\n",
    "        #print(Xk.shape)\n",
    "    for k in range(K):\n",
    "        for d in range(D):\n",
    "            pSigma[d, d, k] = 1\n",
    "    return pMiu,pPi,pSigma\n"
   ]
  },
  {
   "cell_type": "code",
   "execution_count": 4,
   "metadata": {},
   "outputs": [
    {
     "ename": "SyntaxError",
     "evalue": "Missing parentheses in call to 'print'. Did you mean print(s)? (<ipython-input-4-f70ea4868ee5>, line 19)",
     "output_type": "error",
     "traceback": [
      "\u001b[1;36m  File \u001b[1;32m\"<ipython-input-4-f70ea4868ee5>\"\u001b[1;36m, line \u001b[1;32m19\u001b[0m\n\u001b[1;33m    print s\u001b[0m\n\u001b[1;37m          ^\u001b[0m\n\u001b[1;31mSyntaxError\u001b[0m\u001b[1;31m:\u001b[0m Missing parentheses in call to 'print'. Did you mean print(s)?\n"
     ]
    }
   ],
   "source": [
    "from sklearn.cluster import KMeans\n",
    "from sklearn.externals import joblib\n",
    "import numpy\n",
    "def gmm(file, K_or_centroids, op):\n",
    "    threshold = 0.05#5e-3\n",
    "    eps = 1e-9\n",
    "    dataMat = mat(loadDataSet(file, op))\n",
    "    print(dataMat)\n",
    "    [N, D] = shape(dataMat)\n",
    "\n",
    "    K = K_or_centroids\n",
    "    #Rn_index = list(range(N))\n",
    "    #print(Rn_index)\n",
    "    #print(type(Rn_index))\n",
    "    #random.shuffle(Rn_index) \n",
    "    #centroids = dataMat[Rn_index[0:K], :]; \n",
    "    clf = KMeans(n_clusters=K)\n",
    "    s = clf.fit(dataMat)\n",
    "    print(s)\n",
    "\n",
    "    #9个中心\n",
    "    centroids = clf.cluster_centers_\n",
    "    print(centroids)\n",
    "    \n",
    "    [pMiu,pPi,pSigma] = init_params(dataMat,centroids,K,N,D)      \n",
    "    Lprev = -inf \n",
    "    #print('pMu:', pMiu)\n",
    "    #print('pPi:', pPi)\n",
    "    #print(sum(pPi, 1))\n",
    "    #print('pSigma:',pSigma)\n",
    "    #for kk in range(K):\n",
    "    #    print(linalg.det(mat(pSigma[:, :, kk])))\n",
    "    print(N, K, D)\n",
    "    while True:\n",
    "        Px = calc_prob(pMiu,pSigma,dataMat,K,N,D)\n",
    "        #print(Px)\n",
    "        pGamma = mat(array(Px) * array(tile(pPi, (N, 1))))  \n",
    "        pGamma = pGamma / tile(sum(pGamma, 1), (1, K)) \n",
    "        \n",
    "        Nk = sum(pGamma, 0)\n",
    "    \n",
    "        pMiu = mat(diag((1/Nk).tolist()[0])) * (pGamma.T) * dataMat \n",
    "        pPi = Nk/N\n",
    "\n",
    "        #print('kk=',K)\n",
    "        for kk in range(K):\n",
    "            Xshift = dataMat-tile(pMiu[kk], (N, 1))  \n",
    "            #print(Xshift.shape)\n",
    "            #Xshift.T * mat(diag(pGamma[:, kk].T.tolist()[0])) *  Xshift / 2\n",
    "            #print(mat(diag(pGamma[:, kk].T.tolist()[0])).shape)\n",
    "            #print(Nk.shape)\n",
    "            #print(Nk[0,kk])\n",
    "            pSigma[:, :, kk] = (Xshift.T * \\\n",
    "                mat(diag(pGamma[:, kk].T.tolist()[0])) * Xshift) / Nk[0,kk]\n",
    "\n",
    "        L = sum(log(Px*(pPi.T)))  \n",
    "        print(\"add:\", L-Lprev)\n",
    "        if L-Lprev < threshold:\n",
    "            break        \n",
    "            \n",
    "        Lprev = L\n",
    "    return pMiu, pPi, pSigma\n"
   ]
  },
  {
   "cell_type": "code",
   "execution_count": null,
   "metadata": {
    "collapsed": true
   },
   "outputs": [],
   "source": [
    "def getposs(pMiu, pPi, pSigma, X, K):\n",
    "    N = X.shape[0]\n",
    "    print(X.shape)\n",
    "    Px = calc_prob(pMiu,pSigma,X,K,N,2)\n",
    "    pGamma = mat(array(Px) * array(tile(pPi, (N, 1)))) \n",
    "    pGamma = sum(pGamma, 1) #N\n",
    "    return pGamma"
   ]
  },
  {
   "cell_type": "code",
   "execution_count": null,
   "metadata": {
    "scrolled": false
   },
   "outputs": [],
   "source": [
    "dir = 'C:/Users/UsedToBe/Desktop/PyLab/GMM/newdata/train.txt'\n",
    "dir2 = 'C:/Users/UsedToBe/Desktop/PyLab/GMM/newdata/test.txt'\n",
    "X = mat(loadDataSet(dir2, 0))\n",
    "N = X.shape[0]\n",
    "print(N)\n",
    "K = 12\n",
    "t1, t2, t3 = gmm(dir, K, 1)\n",
    "A = getposs(t1, t2, t3, X, K) \n",
    "t1, t2, t3 = gmm(dir, K, 2)\n",
    "B = getposs(t1, t2, t3, X, K)\n",
    "cnt = 0\n",
    "Y = loadDataSetY(\"C:/Users/UsedToBe/Desktop/PyLab/GMM/newdata/test.txt\")\n",
    "for i in range(N):\n",
    "    if A[i] > B[i]:\n",
    "        cnt += (Y[i] == 1)\n",
    "    else:\n",
    "        cnt += (Y[i] == 2)\n",
    "print(\"True = %d\" % cnt)\n",
    "with open(\"C:/Users/UsedToBe/Desktop/PyLab/GMM/res.txt\", 'w') as f:\n",
    "    for i in range(N):\n",
    "        if A[i] > B[i]:\n",
    "            f.write('1\\n')\n",
    "        else:\n",
    "            f.write('2\\n')"
   ]
  },
  {
   "cell_type": "code",
   "execution_count": null,
   "metadata": {
    "collapsed": true
   },
   "outputs": [],
   "source": []
  }
 ],
 "metadata": {
  "kernelspec": {
   "display_name": "Python 3",
   "language": "python",
   "name": "python3"
  },
  "language_info": {
   "codemirror_mode": {
    "name": "ipython",
    "version": 3
   },
   "file_extension": ".py",
   "mimetype": "text/x-python",
   "name": "python",
   "nbconvert_exporter": "python",
   "pygments_lexer": "ipython3",
   "version": "3.6.6"
  }
 },
 "nbformat": 4,
 "nbformat_minor": 2
}
